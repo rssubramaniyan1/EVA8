{
  "nbformat": 4,
  "nbformat_minor": 0,
  "metadata": {
    "colab": {
      "provenance": [],
      "authorship_tag": "ABX9TyM7Pp23wASEmtS3MSHD1qqR",
      "include_colab_link": true
    },
    "kernelspec": {
      "name": "python3",
      "display_name": "Python 3"
    },
    "language_info": {
      "name": "python"
    }
  },
  "cells": [
    {
      "cell_type": "markdown",
      "metadata": {
        "id": "view-in-github",
        "colab_type": "text"
      },
      "source": [
        "<a href=\"https://colab.research.google.com/github/rssubramaniyan1/EVA8/blob/main/EVA8_Assignment6_Model.ipynb\" target=\"_parent\"><img src=\"https://colab.research.google.com/assets/colab-badge.svg\" alt=\"Open In Colab\"/></a>"
      ]
    },
    {
      "cell_type": "code",
      "execution_count": null,
      "metadata": {
        "id": "vWmrLUHD06NP"
      },
      "outputs": [],
      "source": [
        "import torch.nn as nn\n",
        "import torch.nn.functional as F"
      ]
    },
    {
      "cell_type": "markdown",
      "source": [
        "# **Depthwise Separable Convolution**\n",
        "\n",
        "The depthwise separable convolution is a combination of depthwise convolution and pointwise convolution.\n",
        "\n",
        "Depthwise convolution is a type of convolution that applies a single filter to each input channel separately. This means that for an input with N channels and a kernel size of KxK,depthwise convolution applies N kernels to the input.\n",
        "\n",
        "\n",
        "The pointwise convolution is a 1x1 convolution that applies a single 1x1 to each input channel (i.e., each feature map) separately. This means that for an input with N channels and a filter size of 1x1,pointwise convolution applies N filters of size 1x1 to the input, resulting in N output channels.\n",
        "\n",
        "These two operations are often combined in a single layer called a depthwise separable convolution.This combines a depthwise convolution with a pointwise convolution to achieve both computational efficiency and strong representational power.\n"
      ],
      "metadata": {
        "id": "1TVWXAmn6Ktj"
      }
    },
    {
      "cell_type": "code",
      "source": [
        "class depthwise_separable_conv(nn.Module):\n",
        "    def __init__(self, nin, nout, kernel_size, padding,stride, bias=False):\n",
        "        super(depthwise_separable_conv, self).__init__()\n",
        "        self.depthwise = nn.Conv2d(nin, nin, kernel_size=kernel_size, padding=padding, stride=stride, groups=nin, bias=bias)\n",
        "        self.pointwise = nn.Conv2d(nin, nout, kernel_size=1, bias=bias)\n",
        "\n",
        "    def forward(self, x):\n",
        "        out = self.depthwise(x)\n",
        "        out = self.pointwise(out)\n",
        "        return out"
      ],
      "metadata": {
        "id": "N5w-ywr81Ki5"
      },
      "execution_count": null,
      "outputs": []
    },
    {
      "cell_type": "markdown",
      "source": [],
      "metadata": {
        "id": "S2JFj2_S9RDi"
      }
    },
    {
      "cell_type": "code",
      "source": [
        "class Net(nn.Module):\n",
        "    def __init__(self):\n",
        "        super(Net, self).__init__()\n",
        "        # Conv Block 1\n",
        "        self.convblock1 = nn.Sequential(\n",
        "            nn.Conv2d(in_channels=3, out_channels=32, kernel_size=(3, 3), padding=1, bias=False),\n",
        "            nn.ReLU(),\n",
        "            nn.BatchNorm2d(32),\n",
        "            nn.Dropout(0.1),\n",
        "\n",
        "            nn.Conv2d(in_channels=32, out_channels=32, kernel_size=(3, 3), padding=1, bias=False),\n",
        "            nn.ReLU(),\n",
        "            nn.BatchNorm2d(32),\n",
        "            nn.Dropout(0.1),\n",
        "\n",
        "            nn.Conv2d(in_channels=32, out_channels=64, kernel_size=(3, 3), padding=1, bias=False),\n",
        "            nn.ReLU(),\n",
        "            nn.BatchNorm2d(64),\n",
        "            nn.Dropout(0.1)\n",
        "\n",
        "        )\n",
        "        # Transition Block 1\n",
        "        self.pool1 = nn.MaxPool2d(2, 2) # output_size = 16\n",
        "\n",
        "\n",
        "        # Conv Block 2\n",
        "        self.convblock3 = nn.Sequential(\n",
        "            depthwise_separable_conv(64, 32, 3, 1, 1),\n",
        "\n",
        "            nn.ReLU(),\n",
        "            nn.BatchNorm2d(32),\n",
        "            nn.Dropout(0.1),\n",
        "\n",
        "            depthwise_separable_conv(32, 32, 3, 1, 1),\n",
        "\n",
        "            nn.ReLU(),\n",
        "            nn.BatchNorm2d(32),\n",
        "            nn.Dropout(0.1),\n",
        "\n",
        "            depthwise_separable_conv(32, 64, 3, 1, 1),\n",
        "\n",
        "            nn.ReLU(),\n",
        "            nn.BatchNorm2d(64),\n",
        "            nn.Dropout(0.1)\n",
        "        )\n",
        "\n",
        "        # Transition Block 2\n",
        "        self.pool2 = nn.MaxPool2d(2, 2) # output_size = 8\n",
        "\n",
        "        # Conv Block 3\n",
        "        self.convblock4 = nn.Sequential(\n",
        "            depthwise_separable_conv(64, 32, 3, 1, 1),\n",
        "\n",
        "            nn.ReLU(),\n",
        "            nn.BatchNorm2d(32),\n",
        "            nn.Dropout(0.1),\n",
        "\n",
        "            depthwise_separable_conv(32, 32, 3, 1, 1),\n",
        "\n",
        "            nn.ReLU(),\n",
        "            nn.BatchNorm2d(32),\n",
        "            nn.Dropout(0.1),\n",
        "\n",
        "            depthwise_separable_conv(32, 64, 3, 1, 1),\n",
        "\n",
        "            nn.ReLU(),\n",
        "            nn.BatchNorm2d(64),\n",
        "            nn.Dropout(0.1)\n",
        "        )\n",
        "\n",
        "        # Transition Block 3\n",
        "        self.gap = nn.Sequential(\n",
        "            nn.AvgPool2d(kernel_size=7 )\n",
        "        ) # output_size = 1\n",
        "\n",
        "        self.fc1 = nn.Linear(64, 10)\n",
        "\n",
        "    def forward(self, x):\n",
        "        x = self.convblock1(x)\n",
        "        x = self.pool1(x)\n",
        "        x = self.convblock3(x)\n",
        "        x = self.pool2(x)\n",
        "        x = self.convblock4(x)\n",
        "        x = self.gap(x)\n",
        "        x = x.view(-1, 64)\n",
        "        x = self.fc1(x)\n",
        "        return F.log_softmax(x, dim=1)"
      ],
      "metadata": {
        "id": "e20oK1pB5aLd"
      },
      "execution_count": null,
      "outputs": []
    }
  ]
}