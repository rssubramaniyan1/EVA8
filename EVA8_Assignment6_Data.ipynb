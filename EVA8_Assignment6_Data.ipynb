{
  "nbformat": 4,
  "nbformat_minor": 0,
  "metadata": {
    "colab": {
      "provenance": [],
      "mount_file_id": "1bd3JIzGBZzPDzdatjt-ECinbRmXOGO22",
      "authorship_tag": "ABX9TyP4yL5T/O7xDBWOGOdzFfCb",
      "include_colab_link": true
    },
    "kernelspec": {
      "name": "python3",
      "display_name": "Python 3"
    },
    "language_info": {
      "name": "python"
    }
  },
  "cells": [
    {
      "cell_type": "markdown",
      "metadata": {
        "id": "view-in-github",
        "colab_type": "text"
      },
      "source": [
        "<a href=\"https://colab.research.google.com/github/rssubramaniyan1/EVA8/blob/main/EVA8_Assignment6_Data.ipynb\" target=\"_parent\"><img src=\"https://colab.research.google.com/assets/colab-badge.svg\" alt=\"Open In Colab\"/></a>"
      ]
    },
    {
      "cell_type": "code",
      "source": [
        "import torchvision\n",
        "from torchvision import datasets, transforms"
      ],
      "metadata": {
        "id": "fSEkynbg4RsT"
      },
      "execution_count": null,
      "outputs": []
    },
    {
      "cell_type": "code",
      "execution_count": null,
      "metadata": {
        "id": "-XmT1HeU2jCG"
      },
      "outputs": [],
      "source": [
        "!cp /content/drive/MyDrive/Colab\\ Notebooks/EVA8_Assignment6_utils.ipynb /content "
      ]
    },
    {
      "cell_type": "code",
      "source": [
        "%run /content/drive/MyDrive/Colab\\ Notebooks/EVA8_Assignment6_utils.ipynb import * "
      ],
      "metadata": {
        "id": "Nu2U3Nvm4Lgs"
      },
      "execution_count": null,
      "outputs": []
    },
    {
      "cell_type": "code",
      "source": [
        "def download_and_transforms(use_cuda, batch_size, kwargs):\n",
        "\n",
        "    train_set = torchvision.datasets.CIFAR10(root='./data',train=True,download=True) # Downloading the train dataset\n",
        "\n",
        "    #mean_train, std_train = calculate_mean_std(train_set.data) # Calculating the mean and standard deviation of the train dataset\n",
        "\n",
        "    mean_train = [0.485, 0.456, 0.406]\n",
        "    std_train = [0.229, 0.224, 0.225]\n",
        "\n",
        "    train_loader = apply_train_transforms(train_set, mean_train, std_train, batch_size, kwargs) # Applying the transformations on the train dataset and creating a train loader\n",
        "\n",
        "    test_set = torchvision.datasets.CIFAR10(root='./data',train=False,download=True) # Downloading the test dataset\n",
        "\n",
        "    #mean_test, std_test = calculate_mean_std(test_set.data) # Calculating the mean and standard deviation of the test dataset\n",
        "\n",
        "    mean_test = [0.485, 0.456, 0.406]\n",
        "    std_test = [0.229, 0.224, 0.225]\n",
        "    test_loader = apply_test_transforms(test_set, mean_test, std_test, batch_size, kwargs) # Applying the transformations on the test dataset and creating a test loader\n",
        "\n",
        "    return train_loader, test_loader"
      ],
      "metadata": {
        "id": "VcMMnDa42sVU"
      },
      "execution_count": null,
      "outputs": []
    }
  ]
}