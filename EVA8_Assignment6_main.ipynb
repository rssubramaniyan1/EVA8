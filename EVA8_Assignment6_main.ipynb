{
  "nbformat": 4,
  "nbformat_minor": 0,
  "metadata": {
    "colab": {
      "provenance": [],
      "mount_file_id": "1QX7gYSWpx-JvgO4Css3uJJMQ8-qkXAbN",
      "authorship_tag": "ABX9TyP99JurHXXpXAUIbIipP3gX",
      "include_colab_link": true
    },
    "kernelspec": {
      "name": "python3",
      "display_name": "Python 3"
    },
    "language_info": {
      "name": "python"
    },
    "accelerator": "GPU",
    "gpuClass": "standard"
  },
  "cells": [
    {
      "cell_type": "markdown",
      "metadata": {
        "id": "view-in-github",
        "colab_type": "text"
      },
      "source": [
        "<a href=\"https://colab.research.google.com/github/rssubramaniyan1/EVA8/blob/main/EVA8_Assignment6_main.ipynb\" target=\"_parent\"><img src=\"https://colab.research.google.com/assets/colab-badge.svg\" alt=\"Open In Colab\"/></a>"
      ]
    },
    {
      "cell_type": "markdown",
      "source": [
        "# Import the data module"
      ],
      "metadata": {
        "id": "uJT5cLZL61R8"
      }
    },
    {
      "cell_type": "code",
      "source": [
        "!cp /content/drive/MyDrive/Colab\\ Notebooks/EVA8_Assignment6_Data.ipynb /content "
      ],
      "metadata": {
        "id": "bafEpEnQ4qhk"
      },
      "execution_count": 1,
      "outputs": []
    },
    {
      "cell_type": "code",
      "source": [
        "%run /content/drive/MyDrive/Colab\\ Notebooks/EVA8_Assignment6_Data.ipynb import * "
      ],
      "metadata": {
        "id": "whQ1n7Mh42mc"
      },
      "execution_count": 2,
      "outputs": []
    },
    {
      "cell_type": "markdown",
      "source": [
        "# Import the utils module:\n",
        "\n",
        "> function to calculate mean and standard deviation of the dataset\n",
        "\n",
        "> function to apply transformations on the train dataset\n",
        "\n",
        "> function to apply transformations on the test dataset\n",
        "\n",
        "> function for the optimizer and schedule\n",
        "\n",
        "> function for training and testing the model"
      ],
      "metadata": {
        "id": "CsKXXEoa7B9-"
      }
    },
    {
      "cell_type": "code",
      "source": [
        "!cp /content/drive/MyDrive/Colab\\ Notebooks/EVA8_Assignment6_utils.ipynb /content "
      ],
      "metadata": {
        "id": "Q9arWIcr4yeK"
      },
      "execution_count": 3,
      "outputs": []
    },
    {
      "cell_type": "code",
      "source": [
        "%run /content/drive/MyDrive/Colab\\ Notebooks/EVA8_Assignment6_utils.ipynb import * "
      ],
      "metadata": {
        "id": "fk77ebZ247TK"
      },
      "execution_count": 4,
      "outputs": []
    },
    {
      "cell_type": "markdown",
      "source": [
        "# Import the network (model architechture)\n",
        "\n",
        "> The model has depthwise separable convolution\n",
        "\n",
        "> Has less than 50k parameters\n",
        "\n",
        "> Tried various combinations of max pool and dilated cov\n",
        "\n",
        "> **Error always at 2.30 / Accuracy = 10% consistently across different architechtures**. This needs fixing.\n"
      ],
      "metadata": {
        "id": "yJRclDLb7iv1"
      }
    },
    {
      "cell_type": "code",
      "source": [
        "!cp /content/drive/MyDrive/Colab\\ Notebooks/EVA8_Assignment6_Model.ipynb /content "
      ],
      "metadata": {
        "id": "HuaZUarn1_Iu"
      },
      "execution_count": 5,
      "outputs": []
    },
    {
      "cell_type": "code",
      "source": [
        "%run /content/drive/MyDrive/Colab\\ Notebooks/EVA8_Assignment6_Model.ipynb import * "
      ],
      "metadata": {
        "id": "SEUnzkFn2EoF"
      },
      "execution_count": 6,
      "outputs": []
    },
    {
      "cell_type": "code",
      "execution_count": 7,
      "metadata": {
        "id": "0Ivxn1Z8vB4B"
      },
      "outputs": [],
      "source": [
        "from torchsummary import summary\n",
        "import torch"
      ]
    },
    {
      "cell_type": "code",
      "source": [
        "# Device configuration\n",
        "torch.manual_seed(1)\n",
        "use_cuda = torch.cuda.is_available()\n",
        "device = torch.device(\"cuda\" if use_cuda else \"cpu\")\n",
        "kwargs = {'num_workers': 1, 'pin_memory': True} if use_cuda else {}\n",
        "\n",
        "# Hyper parameters\n",
        "num_epochs = 20\n",
        "num_classes = 10\n",
        "batch_size = 128\n",
        "learning_rate = 0.005\n",
        "weight_decay = 0.0001\n",
        "momentum = 0.9\n",
        "step_size = 10\n",
        "gamma = 0.1\n",
        "classes = ('plane', 'car', 'bird', 'cat',\n",
        "           'deer', 'dog', 'frog', 'horse', 'ship', 'truck')\n"
      ],
      "metadata": {
        "id": "VyMsIyNS0ekU"
      },
      "execution_count": 8,
      "outputs": []
    },
    {
      "cell_type": "code",
      "source": [
        "#load the data\n",
        "train_loader, test_loader = download_and_transforms(use_cuda, batch_size, kwargs)"
      ],
      "metadata": {
        "colab": {
          "base_uri": "https://localhost:8080/"
        },
        "id": "yioI6mUb0nkc",
        "outputId": "170065d4-4934-41dd-97f2-fe7f61242732"
      },
      "execution_count": 9,
      "outputs": [
        {
          "output_type": "stream",
          "name": "stdout",
          "text": [
            "Files already downloaded and verified\n",
            "Files already downloaded and verified\n"
          ]
        }
      ]
    },
    {
      "cell_type": "code",
      "source": [
        "Net = Net().to(device)\n",
        "summary(Net, input_size=(3, 32, 32))"
      ],
      "metadata": {
        "colab": {
          "base_uri": "https://localhost:8080/"
        },
        "id": "KOhlUN3p0tND",
        "outputId": "83907239-d966-45a3-f3d2-c45eaf4e05d7"
      },
      "execution_count": 10,
      "outputs": [
        {
          "output_type": "stream",
          "name": "stdout",
          "text": [
            "----------------------------------------------------------------\n",
            "        Layer (type)               Output Shape         Param #\n",
            "================================================================\n",
            "            Conv2d-1           [-1, 32, 32, 32]             864\n",
            "              ReLU-2           [-1, 32, 32, 32]               0\n",
            "       BatchNorm2d-3           [-1, 32, 32, 32]              64\n",
            "           Dropout-4           [-1, 32, 32, 32]               0\n",
            "            Conv2d-5           [-1, 32, 32, 32]           9,216\n",
            "              ReLU-6           [-1, 32, 32, 32]               0\n",
            "       BatchNorm2d-7           [-1, 32, 32, 32]              64\n",
            "           Dropout-8           [-1, 32, 32, 32]               0\n",
            "            Conv2d-9           [-1, 64, 32, 32]          18,432\n",
            "             ReLU-10           [-1, 64, 32, 32]               0\n",
            "      BatchNorm2d-11           [-1, 64, 32, 32]             128\n",
            "          Dropout-12           [-1, 64, 32, 32]               0\n",
            "        MaxPool2d-13           [-1, 64, 16, 16]               0\n",
            "           Conv2d-14           [-1, 64, 16, 16]             576\n",
            "           Conv2d-15           [-1, 32, 16, 16]           2,048\n",
            "depthwise_separable_conv-16           [-1, 32, 16, 16]               0\n",
            "             ReLU-17           [-1, 32, 16, 16]               0\n",
            "      BatchNorm2d-18           [-1, 32, 16, 16]              64\n",
            "          Dropout-19           [-1, 32, 16, 16]               0\n",
            "           Conv2d-20           [-1, 32, 16, 16]             288\n",
            "           Conv2d-21           [-1, 32, 16, 16]           1,024\n",
            "depthwise_separable_conv-22           [-1, 32, 16, 16]               0\n",
            "             ReLU-23           [-1, 32, 16, 16]               0\n",
            "      BatchNorm2d-24           [-1, 32, 16, 16]              64\n",
            "          Dropout-25           [-1, 32, 16, 16]               0\n",
            "           Conv2d-26           [-1, 32, 16, 16]             288\n",
            "           Conv2d-27           [-1, 64, 16, 16]           2,048\n",
            "depthwise_separable_conv-28           [-1, 64, 16, 16]               0\n",
            "             ReLU-29           [-1, 64, 16, 16]               0\n",
            "      BatchNorm2d-30           [-1, 64, 16, 16]             128\n",
            "          Dropout-31           [-1, 64, 16, 16]               0\n",
            "        MaxPool2d-32             [-1, 64, 8, 8]               0\n",
            "           Conv2d-33             [-1, 64, 8, 8]             576\n",
            "           Conv2d-34             [-1, 32, 8, 8]           2,048\n",
            "depthwise_separable_conv-35             [-1, 32, 8, 8]               0\n",
            "             ReLU-36             [-1, 32, 8, 8]               0\n",
            "      BatchNorm2d-37             [-1, 32, 8, 8]              64\n",
            "          Dropout-38             [-1, 32, 8, 8]               0\n",
            "           Conv2d-39             [-1, 32, 8, 8]             288\n",
            "           Conv2d-40             [-1, 32, 8, 8]           1,024\n",
            "depthwise_separable_conv-41             [-1, 32, 8, 8]               0\n",
            "             ReLU-42             [-1, 32, 8, 8]               0\n",
            "      BatchNorm2d-43             [-1, 32, 8, 8]              64\n",
            "          Dropout-44             [-1, 32, 8, 8]               0\n",
            "           Conv2d-45             [-1, 32, 8, 8]             288\n",
            "           Conv2d-46             [-1, 64, 8, 8]           2,048\n",
            "depthwise_separable_conv-47             [-1, 64, 8, 8]               0\n",
            "             ReLU-48             [-1, 64, 8, 8]               0\n",
            "      BatchNorm2d-49             [-1, 64, 8, 8]             128\n",
            "          Dropout-50             [-1, 64, 8, 8]               0\n",
            "        AvgPool2d-51             [-1, 64, 1, 1]               0\n",
            "           Linear-52                   [-1, 10]             650\n",
            "================================================================\n",
            "Total params: 42,474\n",
            "Trainable params: 42,474\n",
            "Non-trainable params: 0\n",
            "----------------------------------------------------------------\n",
            "Input size (MB): 0.01\n",
            "Forward/backward pass size (MB): 6.03\n",
            "Params size (MB): 0.16\n",
            "Estimated Total Size (MB): 6.21\n",
            "----------------------------------------------------------------\n"
          ]
        }
      ]
    },
    {
      "cell_type": "code",
      "source": [
        "criterion, optimizer, scheduler = get_optimizer(Net, learning_rate, weight_decay, momentum, step_size, gamma)\n",
        "\n",
        "for epoch in range(num_epochs):\n",
        "    print(\"EPOCH:\", epoch)\n",
        "    train(Net, device, train_loader, optimizer, epoch)\n",
        "    test(Net, device, test_loader)\n",
        "    scheduler.step()"
      ],
      "metadata": {
        "id": "3Ta2_g820xlz",
        "colab": {
          "base_uri": "https://localhost:8080/"
        },
        "outputId": "6e5aa404-2aed-48fe-956d-af9cac52f952"
      },
      "execution_count": 11,
      "outputs": [
        {
          "output_type": "stream",
          "name": "stdout",
          "text": [
            "EPOCH: 0\n"
          ]
        },
        {
          "output_type": "stream",
          "name": "stderr",
          "text": [
            "Loss=2.30 Batch_id=390 Accuracy=13.78: 100%|██████████| 391/391 [00:09<00:00, 39.44it/s]\n"
          ]
        },
        {
          "output_type": "stream",
          "name": "stdout",
          "text": [
            "Test set: Average loss: 2.3026, Accuracy: 1000/10000 (10.00%)\n",
            "EPOCH: 1\n"
          ]
        },
        {
          "output_type": "stream",
          "name": "stderr",
          "text": [
            "Loss=2.30 Batch_id=390 Accuracy=9.80: 100%|██████████| 391/391 [00:09<00:00, 40.24it/s]\n"
          ]
        },
        {
          "output_type": "stream",
          "name": "stdout",
          "text": [
            "Test set: Average loss: 2.3026, Accuracy: 1000/10000 (10.00%)\n",
            "EPOCH: 2\n"
          ]
        },
        {
          "output_type": "stream",
          "name": "stderr",
          "text": [
            "Loss=2.30 Batch_id=390 Accuracy=9.79: 100%|██████████| 391/391 [00:10<00:00, 36.46it/s]\n"
          ]
        },
        {
          "output_type": "stream",
          "name": "stdout",
          "text": [
            "Test set: Average loss: 2.3026, Accuracy: 1000/10000 (10.00%)\n",
            "EPOCH: 3\n"
          ]
        },
        {
          "output_type": "stream",
          "name": "stderr",
          "text": [
            "Loss=2.30 Batch_id=390 Accuracy=9.83: 100%|██████████| 391/391 [00:10<00:00, 38.57it/s]\n"
          ]
        },
        {
          "output_type": "stream",
          "name": "stdout",
          "text": [
            "Test set: Average loss: 2.3026, Accuracy: 1000/10000 (10.00%)\n",
            "EPOCH: 4\n"
          ]
        },
        {
          "output_type": "stream",
          "name": "stderr",
          "text": [
            "Loss=2.30 Batch_id=390 Accuracy=10.00: 100%|██████████| 391/391 [00:09<00:00, 40.19it/s]\n"
          ]
        },
        {
          "output_type": "stream",
          "name": "stdout",
          "text": [
            "Test set: Average loss: 2.3026, Accuracy: 1000/10000 (10.00%)\n",
            "EPOCH: 5\n"
          ]
        },
        {
          "output_type": "stream",
          "name": "stderr",
          "text": [
            "Loss=2.30 Batch_id=390 Accuracy=9.69: 100%|██████████| 391/391 [00:09<00:00, 41.37it/s]\n"
          ]
        },
        {
          "output_type": "stream",
          "name": "stdout",
          "text": [
            "Test set: Average loss: 2.3026, Accuracy: 1000/10000 (10.00%)\n",
            "EPOCH: 6\n"
          ]
        },
        {
          "output_type": "stream",
          "name": "stderr",
          "text": [
            "Loss=2.30 Batch_id=390 Accuracy=9.90: 100%|██████████| 391/391 [00:10<00:00, 36.72it/s]\n"
          ]
        },
        {
          "output_type": "stream",
          "name": "stdout",
          "text": [
            "Test set: Average loss: 2.3026, Accuracy: 1000/10000 (10.00%)\n",
            "EPOCH: 7\n"
          ]
        },
        {
          "output_type": "stream",
          "name": "stderr",
          "text": [
            "Loss=2.30 Batch_id=390 Accuracy=9.74: 100%|██████████| 391/391 [00:09<00:00, 39.58it/s]\n"
          ]
        },
        {
          "output_type": "stream",
          "name": "stdout",
          "text": [
            "Test set: Average loss: 2.3026, Accuracy: 1000/10000 (10.00%)\n",
            "EPOCH: 8\n"
          ]
        },
        {
          "output_type": "stream",
          "name": "stderr",
          "text": [
            "Loss=2.30 Batch_id=390 Accuracy=9.72: 100%|██████████| 391/391 [00:09<00:00, 41.16it/s]\n"
          ]
        },
        {
          "output_type": "stream",
          "name": "stdout",
          "text": [
            "Test set: Average loss: 2.3026, Accuracy: 1000/10000 (10.00%)\n",
            "EPOCH: 9\n"
          ]
        },
        {
          "output_type": "stream",
          "name": "stderr",
          "text": [
            "Loss=2.30 Batch_id=390 Accuracy=9.57: 100%|██████████| 391/391 [00:09<00:00, 40.83it/s]\n"
          ]
        },
        {
          "output_type": "stream",
          "name": "stdout",
          "text": [
            "Test set: Average loss: 2.3026, Accuracy: 1000/10000 (10.00%)\n",
            "EPOCH: 10\n"
          ]
        },
        {
          "output_type": "stream",
          "name": "stderr",
          "text": [
            "Loss=2.30 Batch_id=390 Accuracy=9.92: 100%|██████████| 391/391 [00:10<00:00, 36.60it/s]\n"
          ]
        },
        {
          "output_type": "stream",
          "name": "stdout",
          "text": [
            "Test set: Average loss: 2.3026, Accuracy: 1000/10000 (10.00%)\n",
            "EPOCH: 11\n"
          ]
        },
        {
          "output_type": "stream",
          "name": "stderr",
          "text": [
            "Loss=2.30 Batch_id=390 Accuracy=9.83: 100%|██████████| 391/391 [00:09<00:00, 40.52it/s]\n"
          ]
        },
        {
          "output_type": "stream",
          "name": "stdout",
          "text": [
            "Test set: Average loss: 2.3026, Accuracy: 1000/10000 (10.00%)\n",
            "EPOCH: 12\n"
          ]
        },
        {
          "output_type": "stream",
          "name": "stderr",
          "text": [
            "Loss=2.30 Batch_id=390 Accuracy=9.96: 100%|██████████| 391/391 [00:09<00:00, 41.97it/s]\n"
          ]
        },
        {
          "output_type": "stream",
          "name": "stdout",
          "text": [
            "Test set: Average loss: 2.3026, Accuracy: 1000/10000 (10.00%)\n",
            "EPOCH: 13\n"
          ]
        },
        {
          "output_type": "stream",
          "name": "stderr",
          "text": [
            "Loss=2.30 Batch_id=390 Accuracy=9.83: 100%|██████████| 391/391 [00:09<00:00, 39.17it/s]\n"
          ]
        },
        {
          "output_type": "stream",
          "name": "stdout",
          "text": [
            "Test set: Average loss: 2.3026, Accuracy: 1000/10000 (10.00%)\n",
            "EPOCH: 14\n"
          ]
        },
        {
          "output_type": "stream",
          "name": "stderr",
          "text": [
            "Loss=2.30 Batch_id=390 Accuracy=9.86: 100%|██████████| 391/391 [00:10<00:00, 37.16it/s]\n"
          ]
        },
        {
          "output_type": "stream",
          "name": "stdout",
          "text": [
            "Test set: Average loss: 2.3026, Accuracy: 1000/10000 (10.00%)\n",
            "EPOCH: 15\n"
          ]
        },
        {
          "output_type": "stream",
          "name": "stderr",
          "text": [
            "Loss=2.30 Batch_id=390 Accuracy=9.70: 100%|██████████| 391/391 [00:09<00:00, 39.91it/s]\n"
          ]
        },
        {
          "output_type": "stream",
          "name": "stdout",
          "text": [
            "Test set: Average loss: 2.3026, Accuracy: 1000/10000 (10.00%)\n",
            "EPOCH: 16\n"
          ]
        },
        {
          "output_type": "stream",
          "name": "stderr",
          "text": [
            "Loss=2.30 Batch_id=390 Accuracy=9.71: 100%|██████████| 391/391 [00:09<00:00, 41.63it/s]\n"
          ]
        },
        {
          "output_type": "stream",
          "name": "stdout",
          "text": [
            "Test set: Average loss: 2.3026, Accuracy: 1000/10000 (10.00%)\n",
            "EPOCH: 17\n"
          ]
        },
        {
          "output_type": "stream",
          "name": "stderr",
          "text": [
            "Loss=2.30 Batch_id=390 Accuracy=9.78: 100%|██████████| 391/391 [00:10<00:00, 38.71it/s]\n"
          ]
        },
        {
          "output_type": "stream",
          "name": "stdout",
          "text": [
            "Test set: Average loss: 2.3026, Accuracy: 1000/10000 (10.00%)\n",
            "EPOCH: 18\n"
          ]
        },
        {
          "output_type": "stream",
          "name": "stderr",
          "text": [
            "Loss=2.30 Batch_id=390 Accuracy=10.00: 100%|██████████| 391/391 [00:10<00:00, 38.09it/s]\n"
          ]
        },
        {
          "output_type": "stream",
          "name": "stdout",
          "text": [
            "Test set: Average loss: 2.3026, Accuracy: 1000/10000 (10.00%)\n",
            "EPOCH: 19\n"
          ]
        },
        {
          "output_type": "stream",
          "name": "stderr",
          "text": [
            "Loss=2.30 Batch_id=390 Accuracy=9.87: 100%|██████████| 391/391 [00:09<00:00, 39.72it/s]\n"
          ]
        },
        {
          "output_type": "stream",
          "name": "stdout",
          "text": [
            "Test set: Average loss: 2.3026, Accuracy: 1000/10000 (10.00%)\n"
          ]
        }
      ]
    }
  ]
}