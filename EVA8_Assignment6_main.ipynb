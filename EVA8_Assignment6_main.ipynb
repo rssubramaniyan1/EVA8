{
  "nbformat": 4,
  "nbformat_minor": 0,
  "metadata": {
    "colab": {
      "provenance": [],
      "mount_file_id": "1QX7gYSWpx-JvgO4Css3uJJMQ8-qkXAbN",
      "authorship_tag": "ABX9TyPXbSlRhx1Pyr0XxEBfglD0",
      "include_colab_link": true
    },
    "kernelspec": {
      "name": "python3",
      "display_name": "Python 3"
    },
    "language_info": {
      "name": "python"
    },
    "accelerator": "GPU",
    "gpuClass": "standard"
  },
  "cells": [
    {
      "cell_type": "markdown",
      "metadata": {
        "id": "view-in-github",
        "colab_type": "text"
      },
      "source": [
        "<a href=\"https://colab.research.google.com/github/rssubramaniyan1/EVA8/blob/main/EVA8_Assignment6_main.ipynb\" target=\"_parent\"><img src=\"https://colab.research.google.com/assets/colab-badge.svg\" alt=\"Open In Colab\"/></a>"
      ]
    },
    {
      "cell_type": "code",
      "source": [
        "!cp /content/drive/MyDrive/Colab\\ Notebooks/EVA8_Assignment6_Model.ipynb /content "
      ],
      "metadata": {
        "id": "HuaZUarn1_Iu"
      },
      "execution_count": 56,
      "outputs": []
    },
    {
      "cell_type": "code",
      "source": [
        "!cp /content/drive/MyDrive/Colab\\ Notebooks/EVA8_Assignment6_Data.ipynb /content "
      ],
      "metadata": {
        "id": "bafEpEnQ4qhk"
      },
      "execution_count": 57,
      "outputs": []
    },
    {
      "cell_type": "code",
      "source": [
        "!cp /content/drive/MyDrive/Colab\\ Notebooks/EVA8_Assignment6_utils.ipynb /content "
      ],
      "metadata": {
        "id": "Q9arWIcr4yeK"
      },
      "execution_count": 58,
      "outputs": []
    },
    {
      "cell_type": "code",
      "source": [
        "%run /content/drive/MyDrive/Colab\\ Notebooks/EVA8_Assignment6_Model.ipynb import * "
      ],
      "metadata": {
        "id": "SEUnzkFn2EoF"
      },
      "execution_count": 59,
      "outputs": []
    },
    {
      "cell_type": "code",
      "source": [
        "%run /content/drive/MyDrive/Colab\\ Notebooks/EVA8_Assignment6_Data.ipynb import * "
      ],
      "metadata": {
        "id": "whQ1n7Mh42mc"
      },
      "execution_count": 60,
      "outputs": []
    },
    {
      "cell_type": "code",
      "source": [
        "%run /content/drive/MyDrive/Colab\\ Notebooks/EVA8_Assignment6_utils.ipynb import * "
      ],
      "metadata": {
        "id": "fk77ebZ247TK"
      },
      "execution_count": 61,
      "outputs": []
    },
    {
      "cell_type": "code",
      "execution_count": 62,
      "metadata": {
        "id": "0Ivxn1Z8vB4B"
      },
      "outputs": [],
      "source": [
        "from torchsummary import summary\n",
        "import torch"
      ]
    },
    {
      "cell_type": "code",
      "source": [
        "# Device configuration\n",
        "torch.manual_seed(1)\n",
        "use_cuda = torch.cuda.is_available()\n",
        "device = torch.device(\"cuda\" if use_cuda else \"cpu\")\n",
        "kwargs = {'num_workers': 1, 'pin_memory': True} if use_cuda else {}\n",
        "\n",
        "# Hyper parameters\n",
        "num_epochs = 50\n",
        "num_classes = 10\n",
        "batch_size = 128\n",
        "learning_rate = 0.005\n",
        "weight_decay = 0.0001\n",
        "momentum = 0.9\n",
        "step_size = 10\n",
        "gamma = 0.1\n",
        "classes = ('plane', 'car', 'bird', 'cat',\n",
        "           'deer', 'dog', 'frog', 'horse', 'ship', 'truck')\n"
      ],
      "metadata": {
        "id": "VyMsIyNS0ekU"
      },
      "execution_count": 63,
      "outputs": []
    },
    {
      "cell_type": "code",
      "source": [
        "#load the data\n",
        "train_loader, test_loader = download_and_transforms(use_cuda, batch_size, kwargs)"
      ],
      "metadata": {
        "colab": {
          "base_uri": "https://localhost:8080/"
        },
        "id": "yioI6mUb0nkc",
        "outputId": "4a4c14fc-850b-4c6a-804c-47e5ee76fad2"
      },
      "execution_count": 64,
      "outputs": [
        {
          "output_type": "stream",
          "name": "stdout",
          "text": [
            "Files already downloaded and verified\n",
            "Files already downloaded and verified\n"
          ]
        }
      ]
    },
    {
      "cell_type": "code",
      "source": [
        "Net = Net().to(device)\n",
        "summary(Net, input_size=(3, 32, 32))"
      ],
      "metadata": {
        "colab": {
          "base_uri": "https://localhost:8080/"
        },
        "id": "KOhlUN3p0tND",
        "outputId": "0e92ce68-05f0-48e0-bca0-34c172284f31"
      },
      "execution_count": 65,
      "outputs": [
        {
          "output_type": "stream",
          "name": "stdout",
          "text": [
            "----------------------------------------------------------------\n",
            "        Layer (type)               Output Shape         Param #\n",
            "================================================================\n",
            "            Conv2d-1           [-1, 16, 32, 32]             432\n",
            "              ReLU-2           [-1, 16, 32, 32]               0\n",
            "       BatchNorm2d-3           [-1, 16, 32, 32]              32\n",
            "           Dropout-4           [-1, 16, 32, 32]               0\n",
            "            Conv2d-5           [-1, 16, 32, 32]           2,304\n",
            "              ReLU-6           [-1, 16, 32, 32]               0\n",
            "       BatchNorm2d-7           [-1, 16, 32, 32]              32\n",
            "           Dropout-8           [-1, 16, 32, 32]               0\n",
            "            Conv2d-9           [-1, 32, 32, 32]           4,608\n",
            "             ReLU-10           [-1, 32, 32, 32]               0\n",
            "      BatchNorm2d-11           [-1, 32, 32, 32]              64\n",
            "          Dropout-12           [-1, 32, 32, 32]               0\n",
            "           Conv2d-13           [-1, 32, 32, 32]             288\n",
            "           Conv2d-14           [-1, 16, 32, 32]             512\n",
            "depthwise_separable_conv-15           [-1, 16, 32, 32]               0\n",
            "           Conv2d-16           [-1, 16, 32, 32]           2,304\n",
            "             ReLU-17           [-1, 16, 32, 32]               0\n",
            "      BatchNorm2d-18           [-1, 16, 32, 32]              32\n",
            "          Dropout-19           [-1, 16, 32, 32]               0\n",
            "           Conv2d-20           [-1, 32, 32, 32]           4,608\n",
            "             ReLU-21           [-1, 32, 32, 32]               0\n",
            "      BatchNorm2d-22           [-1, 32, 32, 32]              64\n",
            "          Dropout-23           [-1, 32, 32, 32]               0\n",
            "           Conv2d-24           [-1, 64, 32, 32]          18,432\n",
            "             ReLU-25           [-1, 64, 32, 32]               0\n",
            "      BatchNorm2d-26           [-1, 64, 32, 32]             128\n",
            "          Dropout-27           [-1, 64, 32, 32]               0\n",
            "           Conv2d-28           [-1, 64, 32, 32]             576\n",
            "           Conv2d-29           [-1, 16, 32, 32]           1,024\n",
            "depthwise_separable_conv-30           [-1, 16, 32, 32]               0\n",
            "           Conv2d-31           [-1, 16, 32, 32]           2,304\n",
            "             ReLU-32           [-1, 16, 32, 32]               0\n",
            "      BatchNorm2d-33           [-1, 16, 32, 32]              32\n",
            "          Dropout-34           [-1, 16, 32, 32]               0\n",
            "           Conv2d-35           [-1, 32, 32, 32]           4,608\n",
            "             ReLU-36           [-1, 32, 32, 32]               0\n",
            "      BatchNorm2d-37           [-1, 32, 32, 32]              64\n",
            "          Dropout-38           [-1, 32, 32, 32]               0\n",
            "           Conv2d-39           [-1, 64, 32, 32]          18,432\n",
            "             ReLU-40           [-1, 64, 32, 32]               0\n",
            "      BatchNorm2d-41           [-1, 64, 32, 32]             128\n",
            "          Dropout-42           [-1, 64, 32, 32]               0\n",
            "           Conv2d-43           [-1, 64, 32, 32]             576\n",
            "           Conv2d-44           [-1, 16, 32, 32]           1,024\n",
            "depthwise_separable_conv-45           [-1, 16, 32, 32]               0\n",
            "           Conv2d-46           [-1, 16, 32, 32]           2,304\n",
            "             ReLU-47           [-1, 16, 32, 32]               0\n",
            "      BatchNorm2d-48           [-1, 16, 32, 32]              32\n",
            "          Dropout-49           [-1, 16, 32, 32]               0\n",
            "           Conv2d-50           [-1, 32, 32, 32]           4,608\n",
            "             ReLU-51           [-1, 32, 32, 32]               0\n",
            "      BatchNorm2d-52           [-1, 32, 32, 32]              64\n",
            "          Dropout-53           [-1, 32, 32, 32]               0\n",
            "           Conv2d-54           [-1, 64, 32, 32]          18,432\n",
            "             ReLU-55           [-1, 64, 32, 32]               0\n",
            "      BatchNorm2d-56           [-1, 64, 32, 32]             128\n",
            "          Dropout-57           [-1, 64, 32, 32]               0\n",
            "           Conv2d-58           [-1, 64, 16, 16]             576\n",
            "           Conv2d-59           [-1, 16, 16, 16]           1,024\n",
            "depthwise_separable_conv-60           [-1, 16, 16, 16]               0\n",
            "           Conv2d-61           [-1, 16, 16, 16]           2,304\n",
            "             ReLU-62           [-1, 16, 16, 16]               0\n",
            "      BatchNorm2d-63           [-1, 16, 16, 16]              32\n",
            "          Dropout-64           [-1, 16, 16, 16]               0\n",
            "           Conv2d-65           [-1, 32, 16, 16]           4,608\n",
            "             ReLU-66           [-1, 32, 16, 16]               0\n",
            "      BatchNorm2d-67           [-1, 32, 16, 16]              64\n",
            "          Dropout-68           [-1, 32, 16, 16]               0\n",
            "           Conv2d-69           [-1, 64, 16, 16]          18,432\n",
            "             ReLU-70           [-1, 64, 16, 16]               0\n",
            "      BatchNorm2d-71           [-1, 64, 16, 16]             128\n",
            "          Dropout-72           [-1, 64, 16, 16]               0\n",
            "           Conv2d-73           [-1, 64, 16, 16]             576\n",
            "           Conv2d-74           [-1, 32, 16, 16]           2,048\n",
            "depthwise_separable_conv-75           [-1, 32, 16, 16]               0\n",
            "           Conv2d-76           [-1, 32, 16, 16]           9,216\n",
            "             ReLU-77           [-1, 32, 16, 16]               0\n",
            "      BatchNorm2d-78           [-1, 32, 16, 16]              64\n",
            "          Dropout-79           [-1, 32, 16, 16]               0\n",
            "           Conv2d-80           [-1, 64, 16, 16]          18,432\n",
            "             ReLU-81           [-1, 64, 16, 16]               0\n",
            "      BatchNorm2d-82           [-1, 64, 16, 16]             128\n",
            "          Dropout-83           [-1, 64, 16, 16]               0\n",
            "           Conv2d-84           [-1, 32, 16, 16]          18,432\n",
            "           Conv2d-85           [-1, 32, 14, 14]           9,216\n",
            "             ReLU-86           [-1, 32, 14, 14]               0\n",
            "      BatchNorm2d-87           [-1, 32, 14, 14]              64\n",
            "          Dropout-88           [-1, 32, 14, 14]               0\n",
            "           Conv2d-89           [-1, 64, 12, 12]          18,432\n",
            "             ReLU-90           [-1, 64, 12, 12]               0\n",
            "      BatchNorm2d-91           [-1, 64, 12, 12]             128\n",
            "          Dropout-92           [-1, 64, 12, 12]               0\n",
            "           Conv2d-93          [-1, 128, 10, 10]          73,728\n",
            "        AvgPool2d-94            [-1, 128, 1, 1]               0\n",
            "           Conv2d-95             [-1, 10, 1, 1]           1,280\n",
            "================================================================\n",
            "Total params: 267,088\n",
            "Trainable params: 267,088\n",
            "Non-trainable params: 0\n",
            "----------------------------------------------------------------\n",
            "Input size (MB): 0.01\n",
            "Forward/backward pass size (MB): 17.20\n",
            "Params size (MB): 1.02\n",
            "Estimated Total Size (MB): 18.23\n",
            "----------------------------------------------------------------\n"
          ]
        }
      ]
    },
    {
      "cell_type": "code",
      "source": [
        "criterion, optimizer, scheduler = get_optimizer(Net, learning_rate, weight_decay, momentum, step_size, gamma)\n",
        "\n",
        "for epoch in range(num_epochs):\n",
        "    print(\"EPOCH:\", epoch)\n",
        "    train(Net, device, train_loader, optimizer, epoch)\n",
        "    test(Net, device, test_loader)\n",
        "    scheduler.step()"
      ],
      "metadata": {
        "colab": {
          "base_uri": "https://localhost:8080/"
        },
        "id": "3Ta2_g820xlz",
        "outputId": "c35abe70-a860-4729-d7b2-5477c84f964d"
      },
      "execution_count": null,
      "outputs": [
        {
          "output_type": "stream",
          "name": "stdout",
          "text": [
            "EPOCH: 0\n"
          ]
        },
        {
          "output_type": "stream",
          "name": "stderr",
          "text": [
            "Loss=2.27 Batch_id=390 Accuracy=16.34: 100%|██████████| 391/391 [00:28<00:00, 13.51it/s]\n"
          ]
        },
        {
          "output_type": "stream",
          "name": "stdout",
          "text": [
            "Test set: Average loss: 2.2860, Accuracy: 1677/10000 (16.77%)\n",
            "EPOCH: 1\n"
          ]
        },
        {
          "output_type": "stream",
          "name": "stderr",
          "text": [
            "Loss=2.30 Batch_id=390 Accuracy=12.53: 100%|██████████| 391/391 [00:29<00:00, 13.29it/s]\n"
          ]
        },
        {
          "output_type": "stream",
          "name": "stdout",
          "text": [
            "Test set: Average loss: 2.3026, Accuracy: 1000/10000 (10.00%)\n",
            "EPOCH: 2\n"
          ]
        },
        {
          "output_type": "stream",
          "name": "stderr",
          "text": [
            "Loss=2.30 Batch_id=390 Accuracy=10.06: 100%|██████████| 391/391 [00:29<00:00, 13.18it/s]\n"
          ]
        },
        {
          "output_type": "stream",
          "name": "stdout",
          "text": [
            "Test set: Average loss: 2.3026, Accuracy: 1000/10000 (10.00%)\n",
            "EPOCH: 3\n"
          ]
        },
        {
          "output_type": "stream",
          "name": "stderr",
          "text": [
            "Loss=2.30 Batch_id=390 Accuracy=10.00: 100%|██████████| 391/391 [00:28<00:00, 13.52it/s]\n"
          ]
        },
        {
          "output_type": "stream",
          "name": "stdout",
          "text": [
            "Test set: Average loss: 2.3026, Accuracy: 1000/10000 (10.00%)\n",
            "EPOCH: 4\n"
          ]
        },
        {
          "output_type": "stream",
          "name": "stderr",
          "text": [
            "Loss=2.30 Batch_id=390 Accuracy=10.00: 100%|██████████| 391/391 [00:28<00:00, 13.49it/s]\n"
          ]
        },
        {
          "output_type": "stream",
          "name": "stdout",
          "text": [
            "Test set: Average loss: 2.3026, Accuracy: 1000/10000 (10.00%)\n",
            "EPOCH: 5\n"
          ]
        },
        {
          "output_type": "stream",
          "name": "stderr",
          "text": [
            "Loss=2.30 Batch_id=390 Accuracy=10.00: 100%|██████████| 391/391 [00:29<00:00, 13.44it/s]\n"
          ]
        },
        {
          "output_type": "stream",
          "name": "stdout",
          "text": [
            "Test set: Average loss: 2.3026, Accuracy: 1000/10000 (10.00%)\n",
            "EPOCH: 6\n"
          ]
        },
        {
          "output_type": "stream",
          "name": "stderr",
          "text": [
            "Loss=2.30 Batch_id=390 Accuracy=10.00: 100%|██████████| 391/391 [00:29<00:00, 13.40it/s]\n"
          ]
        },
        {
          "output_type": "stream",
          "name": "stdout",
          "text": [
            "Test set: Average loss: 2.3026, Accuracy: 1000/10000 (10.00%)\n",
            "EPOCH: 7\n"
          ]
        },
        {
          "output_type": "stream",
          "name": "stderr",
          "text": [
            "Loss=2.30 Batch_id=390 Accuracy=10.00: 100%|██████████| 391/391 [00:29<00:00, 13.42it/s]\n"
          ]
        },
        {
          "output_type": "stream",
          "name": "stdout",
          "text": [
            "Test set: Average loss: 2.3026, Accuracy: 1000/10000 (10.00%)\n",
            "EPOCH: 8\n"
          ]
        },
        {
          "output_type": "stream",
          "name": "stderr",
          "text": [
            "Loss=2.30 Batch_id=390 Accuracy=10.00: 100%|██████████| 391/391 [00:28<00:00, 13.55it/s]\n"
          ]
        },
        {
          "output_type": "stream",
          "name": "stdout",
          "text": [
            "Test set: Average loss: 2.3026, Accuracy: 1000/10000 (10.00%)\n",
            "EPOCH: 9\n"
          ]
        },
        {
          "output_type": "stream",
          "name": "stderr",
          "text": [
            "Loss=2.30 Batch_id=390 Accuracy=10.00: 100%|██████████| 391/391 [00:28<00:00, 13.58it/s]\n"
          ]
        },
        {
          "output_type": "stream",
          "name": "stdout",
          "text": [
            "Test set: Average loss: 2.3026, Accuracy: 1000/10000 (10.00%)\n",
            "EPOCH: 10\n"
          ]
        },
        {
          "output_type": "stream",
          "name": "stderr",
          "text": [
            "Loss=2.30 Batch_id=390 Accuracy=10.00: 100%|██████████| 391/391 [00:29<00:00, 13.44it/s]\n"
          ]
        },
        {
          "output_type": "stream",
          "name": "stdout",
          "text": [
            "Test set: Average loss: 2.3026, Accuracy: 1000/10000 (10.00%)\n",
            "EPOCH: 11\n"
          ]
        },
        {
          "output_type": "stream",
          "name": "stderr",
          "text": [
            "Loss=2.30 Batch_id=390 Accuracy=10.00: 100%|██████████| 391/391 [00:29<00:00, 13.40it/s]\n"
          ]
        },
        {
          "output_type": "stream",
          "name": "stdout",
          "text": [
            "Test set: Average loss: 2.3026, Accuracy: 1000/10000 (10.00%)\n",
            "EPOCH: 12\n"
          ]
        },
        {
          "output_type": "stream",
          "name": "stderr",
          "text": [
            "Loss=2.30 Batch_id=390 Accuracy=10.00: 100%|██████████| 391/391 [00:29<00:00, 13.45it/s]\n"
          ]
        },
        {
          "output_type": "stream",
          "name": "stdout",
          "text": [
            "Test set: Average loss: 2.3026, Accuracy: 1000/10000 (10.00%)\n",
            "EPOCH: 13\n"
          ]
        },
        {
          "output_type": "stream",
          "name": "stderr",
          "text": [
            "Loss=2.30 Batch_id=390 Accuracy=10.00: 100%|██████████| 391/391 [00:28<00:00, 13.56it/s]\n"
          ]
        },
        {
          "output_type": "stream",
          "name": "stdout",
          "text": [
            "Test set: Average loss: 2.3026, Accuracy: 1000/10000 (10.00%)\n",
            "EPOCH: 14\n"
          ]
        },
        {
          "output_type": "stream",
          "name": "stderr",
          "text": [
            "Loss=2.30 Batch_id=390 Accuracy=10.00: 100%|██████████| 391/391 [00:29<00:00, 13.36it/s]\n"
          ]
        },
        {
          "output_type": "stream",
          "name": "stdout",
          "text": [
            "Test set: Average loss: 2.3026, Accuracy: 1000/10000 (10.00%)\n",
            "EPOCH: 15\n"
          ]
        },
        {
          "output_type": "stream",
          "name": "stderr",
          "text": [
            "Loss=2.30 Batch_id=390 Accuracy=10.00: 100%|██████████| 391/391 [00:29<00:00, 13.46it/s]\n"
          ]
        },
        {
          "output_type": "stream",
          "name": "stdout",
          "text": [
            "Test set: Average loss: 2.3026, Accuracy: 1000/10000 (10.00%)\n",
            "EPOCH: 16\n"
          ]
        },
        {
          "output_type": "stream",
          "name": "stderr",
          "text": [
            "Loss=2.30 Batch_id=390 Accuracy=10.00: 100%|██████████| 391/391 [00:29<00:00, 13.45it/s]\n"
          ]
        },
        {
          "output_type": "stream",
          "name": "stdout",
          "text": [
            "Test set: Average loss: 2.3026, Accuracy: 1000/10000 (10.00%)\n",
            "EPOCH: 17\n"
          ]
        },
        {
          "output_type": "stream",
          "name": "stderr",
          "text": [
            "Loss=2.30 Batch_id=38 Accuracy=9.84:  10%|▉         | 39/391 [00:02<00:25, 13.84it/s]"
          ]
        }
      ]
    }
  ]
}